{
 "cells": [
  {
   "cell_type": "code",
   "execution_count": 1,
   "metadata": {},
   "outputs": [
    {
     "name": "stderr",
     "output_type": "stream",
     "text": [
      "/Users/ecesuolgun/Library/Python/3.9/lib/python/site-packages/urllib3/__init__.py:35: NotOpenSSLWarning: urllib3 v2 only supports OpenSSL 1.1.1+, currently the 'ssl' module is compiled with 'LibreSSL 2.8.3'. See: https://github.com/urllib3/urllib3/issues/3020\n",
      "  warnings.warn(\n"
     ]
    }
   ],
   "source": [
    "from google.cloud import bigquery\n",
    "import os\n",
    "from dotenv import load_dotenv\n",
    "import pandas as pd\n",
    "import logging\n",
    "import numpy as np\n",
    "import matplotlib.pyplot as plt\n",
    "from sklearn.cluster import Birch\n"
   ]
  },
  {
   "cell_type": "code",
   "execution_count": 2,
   "metadata": {},
   "outputs": [],
   "source": [
    "#Logging configuration\n",
    "logging.basicConfig(\n",
    "    level=logging.INFO, \n",
    "    format=\"%(asctime)s - %(levelname)s - %(message)s\", \n",
    ")"
   ]
  },
  {
   "cell_type": "code",
   "execution_count": 3,
   "metadata": {},
   "outputs": [
    {
     "name": "stderr",
     "output_type": "stream",
     "text": [
      "2025-04-30 22:37:20,283 - INFO - Local file found, loading...\n"
     ]
    }
   ],
   "source": [
    "load_dotenv()\n",
    "CREDENTIALS_PATH = os.getenv('GOOGLE_APPLICATION_CREDENTIALS')\n",
    "if os.path.exists('clustered_events.feather'):\n",
    "    logging.info(\"Local file found, loading...\")\n",
    "    df = pd.read_feather('clustered_events.feather')\n",
    "else:\n",
    "    logging.info(\"Local file not found, fetching from BigQuery...\")\n",
    "    query = \"\"\"\n",
    "    SELECT *\n",
    "    FROM `apps-interview-project.analytics_v2.clustered_events`\n",
    "    \"\"\"\n",
    "    client = bigquery.Client.from_service_account_json(CREDENTIALS_PATH)\n",
    "    df = client.query(query).to_dataframe()\n",
    "    df.to_feather('clustered_events.feather')"
   ]
  },
  {
   "cell_type": "code",
   "execution_count": 4,
   "metadata": {},
   "outputs": [],
   "source": [
    "def calculate_revenue_windows(df):\n",
    "    #Windows = [0,3,7]\n",
    "    df['installed_datetime'] = df['installed_datetime'].dt.tz_localize(None)\n",
    "    df['install_date'] = df['installed_datetime'].dt.normalize()\n",
    "    df['days_since_install'] = (df['event_date'] - df['install_date']).dt.days\n",
    "\n",
    "    revenue_df = df[df['ad_revenue'].notnull() & (df['ad_revenue'] > 0)].copy()\n",
    "\n",
    "    d0 = revenue_df[revenue_df['days_since_install'] == 0].groupby('user_id')['ad_revenue'].sum().rename('rev_d0')\n",
    "\n",
    "    d3 = revenue_df[revenue_df['days_since_install'] <= 3].groupby('user_id')['ad_revenue'].sum().rename('rev_d3')\n",
    "\n",
    "    d7 = revenue_df[revenue_df['days_since_install'] <= 7].groupby('user_id')['ad_revenue'].sum().rename('rev_d7')\n",
    "\n",
    "    user_revenue = pd.DataFrame({'user_id': df['user_id'].unique()})\n",
    "    user_revenue = user_revenue.merge(d0, on='user_id', how='left')\n",
    "    user_revenue = user_revenue.merge(d3, on='user_id', how='left')\n",
    "    user_revenue = user_revenue.merge(d7, on='user_id', how='left')\n",
    "    user_revenue.fillna(0, inplace=True)\n",
    "\n",
    "    return user_revenue\n"
   ]
  },
  {
   "cell_type": "code",
   "execution_count": 5,
   "metadata": {},
   "outputs": [],
   "source": [
    "def preprocess_data(raw_df):\n",
    "    raw_df['event_datetime'] = pd.to_datetime(raw_df['event_timestamp'], unit='us') \n",
    "    raw_df['install_date'] = pd.to_datetime(raw_df['installed_datetime'], unit='us') \n",
    "    raw_df['event_date'] = pd.to_datetime(raw_df['event_date'])\n",
    "\n",
    "    \n",
    "    check_ads_df = raw_df[((raw_df['ad_revenue'].isnull()) & (raw_df['ad_type'].notnull())) | \n",
    "                  ((raw_df['ad_type'].isnull()) & (raw_df['ad_revenue'].notnull()))]\n",
    "\n",
    "    if not check_ads_df.empty:\n",
    "        logging.info(\"Muhtemelen db'ye veriler kaydedilirken bir hata yapıldı. Bunlar droplanacak.\")\n",
    "        raw_df = raw_df[~raw_df.index.isin(check_ads_df.index)]\n",
    "    \n",
    "    df = raw_df.drop(columns=['event_timestamp', 'exp_group'], axis = 1)\n",
    "    df = df.sort_values('event_datetime')\n",
    "    \n",
    "    user_revenue = calculate_revenue_windows(df)\n",
    "    \n",
    "\n",
    "    return df, user_revenue"
   ]
  },
  {
   "cell_type": "code",
   "execution_count": 12,
   "metadata": {},
   "outputs": [],
   "source": [
    "def save_eda_plots(output_dir, col, value_counts, title, xlabel, ylabel, color):\n",
    "    fig, ax = plt.subplots(figsize=(8, 5))\n",
    "\n",
    "    value_counts.plot(kind='bar', color=color, ax=ax)\n",
    "    ax.set_title(title)\n",
    "    ax.set_xlabel(xlabel)\n",
    "    ax.set_ylabel(ylabel)\n",
    "    ax.tick_params(axis='x', rotation=45)\n",
    "\n",
    "    # Bar etiketleri\n",
    "    for i, v in enumerate(value_counts):\n",
    "        ax.text(i, v + 0.5, str(v), ha='center')\n",
    "\n",
    "    filename = f\"{output_dir}/{col}.png\"\n",
    "    fig.tight_layout()\n",
    "    fig.savefig(filename)\n",
    "    logging.info(f\"Plot saved to {filename}\\n\")\n",
    "    plt.show()  # Grafik ekranda da gösterilsin\n"
   ]
  },
  {
   "cell_type": "code",
   "execution_count": 19,
   "metadata": {},
   "outputs": [],
   "source": [
    "def label_cluster(row):\n",
    "    if row['birch_cluster'] == 0:\n",
    "        return 'No or Very Low Revenue'\n",
    "    elif row['birch_cluster'] == 1:\n",
    "        return 'Low Revenue'\n",
    "    elif row['birch_cluster'] == 3:\n",
    "        return 'Medium Revenue'\n",
    "    else:\n",
    "        return 'High Revenue'\n"
   ]
  },
  {
   "cell_type": "code",
   "execution_count": 7,
   "metadata": {},
   "outputs": [
    {
     "data": {
      "text/html": [
       "<div>\n",
       "<style scoped>\n",
       "    .dataframe tbody tr th:only-of-type {\n",
       "        vertical-align: middle;\n",
       "    }\n",
       "\n",
       "    .dataframe tbody tr th {\n",
       "        vertical-align: top;\n",
       "    }\n",
       "\n",
       "    .dataframe thead th {\n",
       "        text-align: right;\n",
       "    }\n",
       "</style>\n",
       "<table border=\"1\" class=\"dataframe\">\n",
       "  <thead>\n",
       "    <tr style=\"text-align: right;\">\n",
       "      <th></th>\n",
       "      <th>event_date</th>\n",
       "      <th>installed_datetime</th>\n",
       "      <th>platform</th>\n",
       "      <th>country</th>\n",
       "      <th>user_id</th>\n",
       "      <th>event_name</th>\n",
       "      <th>is_online</th>\n",
       "      <th>ad_revenue</th>\n",
       "      <th>ad_type</th>\n",
       "      <th>level_name</th>\n",
       "      <th>event_datetime</th>\n",
       "      <th>install_date</th>\n",
       "      <th>days_since_install</th>\n",
       "    </tr>\n",
       "  </thead>\n",
       "  <tbody>\n",
       "    <tr>\n",
       "      <th>2203388</th>\n",
       "      <td>2024-07-01</td>\n",
       "      <td>2024-06-30 23:55:00.612</td>\n",
       "      <td>android</td>\n",
       "      <td>us</td>\n",
       "      <td>5820934861762761160</td>\n",
       "      <td>AdImpressionRevenue</td>\n",
       "      <td>&lt;NA&gt;</td>\n",
       "      <td>0.001052</td>\n",
       "      <td>banner</td>\n",
       "      <td>&lt;NA&gt;</td>\n",
       "      <td>2024-07-01 00:00:00.062</td>\n",
       "      <td>2024-06-30</td>\n",
       "      <td>1.0</td>\n",
       "    </tr>\n",
       "    <tr>\n",
       "      <th>4496877</th>\n",
       "      <td>2024-07-01</td>\n",
       "      <td>2024-06-06 23:06:24.794</td>\n",
       "      <td>android</td>\n",
       "      <td>us</td>\n",
       "      <td>2505569074672817941</td>\n",
       "      <td>AdImpressionRevenue</td>\n",
       "      <td>&lt;NA&gt;</td>\n",
       "      <td>0.000892</td>\n",
       "      <td>banner</td>\n",
       "      <td>&lt;NA&gt;</td>\n",
       "      <td>2024-07-01 00:00:00.096</td>\n",
       "      <td>2024-06-06</td>\n",
       "      <td>25.0</td>\n",
       "    </tr>\n",
       "    <tr>\n",
       "      <th>9107608</th>\n",
       "      <td>2024-07-01</td>\n",
       "      <td>2024-06-30 23:18:27.293</td>\n",
       "      <td>android</td>\n",
       "      <td>ca</td>\n",
       "      <td>-2986919920102759774</td>\n",
       "      <td>AdImpressionRevenue</td>\n",
       "      <td>&lt;NA&gt;</td>\n",
       "      <td>0.001310</td>\n",
       "      <td>banner</td>\n",
       "      <td>&lt;NA&gt;</td>\n",
       "      <td>2024-07-01 00:00:00.813</td>\n",
       "      <td>2024-06-30</td>\n",
       "      <td>1.0</td>\n",
       "    </tr>\n",
       "    <tr>\n",
       "      <th>3126338</th>\n",
       "      <td>2024-07-01</td>\n",
       "      <td>2024-06-30 18:47:22.927</td>\n",
       "      <td>android</td>\n",
       "      <td>us</td>\n",
       "      <td>8252864593252586328</td>\n",
       "      <td>AdImpressionRevenue</td>\n",
       "      <td>&lt;NA&gt;</td>\n",
       "      <td>0.003454</td>\n",
       "      <td>banner</td>\n",
       "      <td>&lt;NA&gt;</td>\n",
       "      <td>2024-07-01 00:00:01.087</td>\n",
       "      <td>2024-06-30</td>\n",
       "      <td>1.0</td>\n",
       "    </tr>\n",
       "    <tr>\n",
       "      <th>5450919</th>\n",
       "      <td>2024-07-01</td>\n",
       "      <td>2024-06-29 22:44:40.927</td>\n",
       "      <td>android</td>\n",
       "      <td>us</td>\n",
       "      <td>3298063069325728389</td>\n",
       "      <td>level_start</td>\n",
       "      <td>&lt;NA&gt;</td>\n",
       "      <td>NaN</td>\n",
       "      <td>None</td>\n",
       "      <td>37</td>\n",
       "      <td>2024-07-01 00:00:01.274</td>\n",
       "      <td>2024-06-29</td>\n",
       "      <td>2.0</td>\n",
       "    </tr>\n",
       "  </tbody>\n",
       "</table>\n",
       "</div>"
      ],
      "text/plain": [
       "        event_date      installed_datetime platform country  \\\n",
       "2203388 2024-07-01 2024-06-30 23:55:00.612  android      us   \n",
       "4496877 2024-07-01 2024-06-06 23:06:24.794  android      us   \n",
       "9107608 2024-07-01 2024-06-30 23:18:27.293  android      ca   \n",
       "3126338 2024-07-01 2024-06-30 18:47:22.927  android      us   \n",
       "5450919 2024-07-01 2024-06-29 22:44:40.927  android      us   \n",
       "\n",
       "                      user_id           event_name  is_online  ad_revenue  \\\n",
       "2203388   5820934861762761160  AdImpressionRevenue       <NA>    0.001052   \n",
       "4496877   2505569074672817941  AdImpressionRevenue       <NA>    0.000892   \n",
       "9107608  -2986919920102759774  AdImpressionRevenue       <NA>    0.001310   \n",
       "3126338   8252864593252586328  AdImpressionRevenue       <NA>    0.003454   \n",
       "5450919   3298063069325728389          level_start       <NA>         NaN   \n",
       "\n",
       "        ad_type  level_name          event_datetime install_date  \\\n",
       "2203388  banner        <NA> 2024-07-01 00:00:00.062   2024-06-30   \n",
       "4496877  banner        <NA> 2024-07-01 00:00:00.096   2024-06-06   \n",
       "9107608  banner        <NA> 2024-07-01 00:00:00.813   2024-06-30   \n",
       "3126338  banner        <NA> 2024-07-01 00:00:01.087   2024-06-30   \n",
       "5450919    None          37 2024-07-01 00:00:01.274   2024-06-29   \n",
       "\n",
       "         days_since_install  \n",
       "2203388                 1.0  \n",
       "4496877                25.0  \n",
       "9107608                 1.0  \n",
       "3126338                 1.0  \n",
       "5450919                 2.0  "
      ]
     },
     "execution_count": 7,
     "metadata": {},
     "output_type": "execute_result"
    }
   ],
   "source": [
    "df, user_revenue = preprocess_data(df)\n",
    "df.head()"
   ]
  },
  {
   "cell_type": "markdown",
   "metadata": {},
   "source": [
    "#  EDA:"
   ]
  },
  {
   "cell_type": "code",
   "execution_count": 7,
   "metadata": {},
   "outputs": [
    {
     "name": "stderr",
     "output_type": "stream",
     "text": [
      "2025-04-30 21:51:10,110 - INFO - Total number of unique users: 176626\n",
      "2025-04-30 21:51:10,644 - INFO - Number of unique users by country:\n",
      "2025-04-30 21:51:10,645 - INFO - \n",
      "country\n",
      "us    55746\n",
      "tr    40217\n",
      "gb    23619\n",
      "es    15514\n",
      "de    10580\n",
      "      ...  \n",
      "pg        1\n",
      "ss        0\n",
      "bt        0\n",
      "er        0\n",
      "to        0\n",
      "Name: user_id, Length: 180, dtype: int64\n",
      "2025-04-30 21:51:11,149 - INFO - Number of unique users by platform:\n",
      "2025-04-30 21:51:11,150 - INFO - \n",
      "platform\n",
      "android    120421\n",
      "ios         56205\n",
      "Name: user_id, dtype: int64\n",
      "2025-04-30 21:51:12,106 - INFO - Unique user count by platform and country:\n",
      "2025-04-30 21:51:12,107 - INFO - \n",
      "    Platform Country  Unique_User_Count\n",
      "0    android      ad                  3\n",
      "1    android      ae                166\n",
      "2    android      af                 11\n",
      "3    android      al                 49\n",
      "4    android      am                  4\n",
      "..       ...     ...                ...\n",
      "316      ios      ve                 28\n",
      "317      ios      ye                  4\n",
      "318      ios      yt                  1\n",
      "319      ios      za                 18\n",
      "320      ios      zw                  1\n",
      "\n",
      "[321 rows x 3 columns]\n"
     ]
    }
   ],
   "source": [
    "# 1. Total number of unique users\n",
    "unique_users = df['user_id'].nunique()\n",
    "logging.info(f\"Total number of unique users: {unique_users}\")\n",
    "\n",
    "# 2. Number of unique users by country\n",
    "users_by_country = df.groupby('country')['user_id'].nunique().sort_values(ascending=False)\n",
    "logging.info(\"Number of unique users by country:\")\n",
    "logging.info(f\"\\n{users_by_country}\")\n",
    "\n",
    "# 3. Number of unique users by platform\n",
    "users_by_platform = df.groupby('platform')['user_id'].nunique()\n",
    "logging.info(\"Number of unique users by platform:\")\n",
    "logging.info(f\"\\n{users_by_platform}\")\n",
    "\n",
    "# 4. Combined summary by platform and country\n",
    "summary_df = df.groupby(['platform', 'country'])['user_id'].nunique().reset_index()\n",
    "summary_df.columns = ['Platform', 'Country', 'Unique_User_Count']\n",
    "logging.info(\"Unique user count by platform and country:\")\n",
    "logging.info(f\"\\n{summary_df}\")"
   ]
  },
  {
   "cell_type": "code",
   "execution_count": 8,
   "metadata": {},
   "outputs": [
    {
     "name": "stderr",
     "output_type": "stream",
     "text": [
      "2025-04-30 21:51:12,226 - INFO - Event count by ad type (including NaNs):\n",
      "2025-04-30 21:51:12,227 - INFO - \n",
      "ad_type\n",
      "banner          9619046\n",
      "None            2488172\n",
      "interstitial    1211812\n",
      "rewarded         178117\n",
      "Name: count, dtype: int64\n",
      "2025-04-30 21:51:12,265 - INFO - Event count by level name (including NaNs):\n",
      "2025-04-30 21:51:12,266 - INFO - \n",
      "level_name\n",
      "0               4\n",
      "1          104084\n",
      "2           96900\n",
      "3           87987\n",
      "4           83254\n",
      "           ...   \n",
      "16017           2\n",
      "16018           1\n",
      "16019           1\n",
      "16020           1\n",
      "<NA>     11693058\n",
      "Name: count, Length: 1999, dtype: Int64\n",
      "2025-04-30 21:51:12,513 - INFO - Event count by event name:\n",
      "2025-04-30 21:51:12,514 - INFO - \n",
      "event_name\n",
      "AdImpressionRevenue    11008975\n",
      "level_start             1804089\n",
      "GameStart                585096\n",
      "InitialGameStart          98987\n",
      "Name: count, dtype: int64\n"
     ]
    }
   ],
   "source": [
    "ad_type_counts = df['ad_type'].value_counts(dropna=False)\n",
    "logging.info(\"Event count by ad type (including NaNs):\")\n",
    "logging.info(f\"\\n{ad_type_counts}\")\n",
    "\n",
    "level_counts = df['level_name'].value_counts(dropna=False).sort_index()\n",
    "logging.info(\"Event count by level name (including NaNs):\")\n",
    "logging.info(f\"\\n{level_counts}\")\n",
    "\n",
    "event_name_counts = df['event_name'].value_counts()\n",
    "logging.info(\"Event count by event name:\")\n",
    "logging.info(f\"\\n{event_name_counts}\")\n"
   ]
  },
  {
   "cell_type": "code",
   "execution_count": null,
   "metadata": {},
   "outputs": [
    {
     "name": "stderr",
     "output_type": "stream",
     "text": [
      "2025-04-30 21:51:12,598 - INFO - Event Name Distribution:\n",
      "event_name\n",
      "AdImpressionRevenue    11008975\n",
      "level_start             1804089\n",
      "GameStart                585096\n",
      "InitialGameStart          98987\n",
      "Name: count, dtype: int64\n",
      "\n",
      "2025-04-30 21:51:12,684 - INFO - Plot saved to outputs/eda_plots/event_name.png\n",
      "\n"
     ]
    },
    {
     "data": {
      "image/png": "[encoded data removed]",
      "text/plain": [
       "<Figure size 800x500 with 1 Axes>"
      ]
     },
     "metadata": {},
     "output_type": "display_data"
    },
    {
     "name": "stderr",
     "output_type": "stream",
     "text": [
      "2025-04-30 21:51:12,846 - INFO - Ad Type Distribution:\n",
      "ad_type\n",
      "banner          9619046\n",
      "None            2488172\n",
      "interstitial    1211812\n",
      "rewarded         178117\n",
      "Name: count, dtype: int64\n",
      "\n",
      "2025-04-30 21:51:12,945 - INFO - Plot saved to outputs/eda_plots/ad_type.png\n",
      "\n"
     ]
    },
    {
     "data": {
      "image/png": "[encoded data removed]",
      "text/plain": [
       "<Figure size 800x500 with 1 Axes>"
      ]
     },
     "metadata": {},
     "output_type": "display_data"
    }
   ],
   "source": [
    "columns_to_plot_categorical = ['event_name', 'ad_type']\n",
    "\n",
    "for col in columns_to_plot_categorical:\n",
    "    value_counts = df[col].value_counts(dropna=False)\n",
    "\n",
    "    logging.info(f\"{col.replace('_', ' ').title()} Distribution:\\n{value_counts}\\n\")\n",
    "\n",
    "    save_eda_plots(\n",
    "        output_dir=\"outputs/eda_plots\",\n",
    "        col=f\"{col}\",\n",
    "        value_counts=value_counts,\n",
    "        title=f\"Event Count by {col.replace('_', ' ').title()}\",\n",
    "        xlabel=col.replace('_', ' ').title(),\n",
    "        ylabel=\"Count\",\n",
    "        color=\"cornflowerblue\"\n",
    "    )"
   ]
  },
  {
   "cell_type": "code",
   "execution_count": null,
   "metadata": {},
   "outputs": [
    {
     "name": "stderr",
     "output_type": "stream",
     "text": [
      "2025-04-30 21:51:13,506 - INFO - Unique Users by Platform:\n",
      "platform\n",
      "android    120421\n",
      "ios         56205\n",
      "Name: user_id, dtype: int64\n",
      "\n",
      "2025-04-30 21:51:13,564 - INFO - Plot saved to outputs/eda_plots/platform.png\n",
      "\n"
     ]
    },
    {
     "data": {
      "image/png": "[encoded data removed]",
      "text/plain": [
       "<Figure size 800x500 with 1 Axes>"
      ]
     },
     "metadata": {},
     "output_type": "display_data"
    },
    {
     "name": "stderr",
     "output_type": "stream",
     "text": [
      "2025-04-30 21:51:14,139 - INFO - Unique Users by Country:\n",
      "country\n",
      "us    55746\n",
      "tr    40217\n",
      "gb    23619\n",
      "es    15514\n",
      "de    10580\n",
      "fr    10269\n",
      "ca     4698\n",
      "mx     2233\n",
      "au     1362\n",
      "ir     1353\n",
      "in      917\n",
      "br      898\n",
      "ae      715\n",
      "ph      596\n",
      "dk      585\n",
      "id      555\n",
      "be      531\n",
      "ch      405\n",
      "co      385\n",
      "nl      365\n",
      "Name: user_id, dtype: int64\n",
      "\n",
      "2025-04-30 21:51:14,226 - INFO - Plot saved to outputs/eda_plots/country.png\n",
      "\n"
     ]
    },
    {
     "data": {
      "image/png": "[encoded data removed]",
      "text/plain": [
       "<Figure size 800x500 with 1 Axes>"
      ]
     },
     "metadata": {},
     "output_type": "display_data"
    }
   ],
   "source": [
    "nunique_columns = ['platform', 'country']\n",
    "\n",
    "for col in nunique_columns:\n",
    "    if col == 'country':\n",
    "        value_counts = df.groupby(col)['user_id'].nunique().sort_values(ascending=False).head(20)\n",
    "    else:\n",
    "        value_counts = df.groupby(col)['user_id'].nunique().sort_values(ascending=False)\n",
    "    \n",
    "    logging.info(f\"Unique Users by {col.title()}:\\n{value_counts}\\n\")\n",
    "\n",
    "    save_eda_plots(\n",
    "        output_dir=\"outputs/eda_plots\",\n",
    "        col=f\"{col}\",\n",
    "        value_counts=value_counts,\n",
    "        title=f\"Unique Users by {col.title()}\",\n",
    "        xlabel=col.title(),\n",
    "        ylabel=\"Unique Users\",\n",
    "        color=\"lightseagreen\"\n",
    "    )"
   ]
  },
  {
   "cell_type": "code",
   "execution_count": 11,
   "metadata": {},
   "outputs": [
    {
     "data": {
      "text/html": [
       "<div>\n",
       "<style scoped>\n",
       "    .dataframe tbody tr th:only-of-type {\n",
       "        vertical-align: middle;\n",
       "    }\n",
       "\n",
       "    .dataframe tbody tr th {\n",
       "        vertical-align: top;\n",
       "    }\n",
       "\n",
       "    .dataframe thead th {\n",
       "        text-align: right;\n",
       "    }\n",
       "</style>\n",
       "<table border=\"1\" class=\"dataframe\">\n",
       "  <thead>\n",
       "    <tr style=\"text-align: right;\">\n",
       "      <th></th>\n",
       "      <th>user_id</th>\n",
       "      <th>ad_revenue</th>\n",
       "    </tr>\n",
       "  </thead>\n",
       "  <tbody>\n",
       "    <tr>\n",
       "      <th>60238</th>\n",
       "      <td>-2949850440414794901</td>\n",
       "      <td>114.471248</td>\n",
       "    </tr>\n",
       "    <tr>\n",
       "      <th>119404</th>\n",
       "      <td>3199024696807063262</td>\n",
       "      <td>91.159944</td>\n",
       "    </tr>\n",
       "    <tr>\n",
       "      <th>142740</th>\n",
       "      <td>5672432894938092291</td>\n",
       "      <td>77.374459</td>\n",
       "    </tr>\n",
       "    <tr>\n",
       "      <th>40559</th>\n",
       "      <td>-5025618815020944609</td>\n",
       "      <td>55.000000</td>\n",
       "    </tr>\n",
       "    <tr>\n",
       "      <th>94699</th>\n",
       "      <td>639556492733861874</td>\n",
       "      <td>51.316020</td>\n",
       "    </tr>\n",
       "    <tr>\n",
       "      <th>...</th>\n",
       "      <td>...</td>\n",
       "      <td>...</td>\n",
       "    </tr>\n",
       "    <tr>\n",
       "      <th>120713</th>\n",
       "      <td>3339759615173925541</td>\n",
       "      <td>0.000000</td>\n",
       "    </tr>\n",
       "    <tr>\n",
       "      <th>120716</th>\n",
       "      <td>3340032814930504323</td>\n",
       "      <td>0.000000</td>\n",
       "    </tr>\n",
       "    <tr>\n",
       "      <th>59029</th>\n",
       "      <td>-3075506499106683389</td>\n",
       "      <td>0.000000</td>\n",
       "    </tr>\n",
       "    <tr>\n",
       "      <th>157478</th>\n",
       "      <td>7218807043163925100</td>\n",
       "      <td>0.000000</td>\n",
       "    </tr>\n",
       "    <tr>\n",
       "      <th>62900</th>\n",
       "      <td>-2671085370863174913</td>\n",
       "      <td>0.000000</td>\n",
       "    </tr>\n",
       "  </tbody>\n",
       "</table>\n",
       "<p>176493 rows × 2 columns</p>\n",
       "</div>"
      ],
      "text/plain": [
       "                     user_id  ad_revenue\n",
       "60238   -2949850440414794901  114.471248\n",
       "119404   3199024696807063262   91.159944\n",
       "142740   5672432894938092291   77.374459\n",
       "40559   -5025618815020944609   55.000000\n",
       "94699     639556492733861874   51.316020\n",
       "...                      ...         ...\n",
       "120713   3339759615173925541    0.000000\n",
       "120716   3340032814930504323    0.000000\n",
       "59029   -3075506499106683389    0.000000\n",
       "157478   7218807043163925100    0.000000\n",
       "62900   -2671085370863174913    0.000000\n",
       "\n",
       "[176493 rows x 2 columns]"
      ]
     },
     "execution_count": 11,
     "metadata": {},
     "output_type": "execute_result"
    }
   ],
   "source": [
    "df_including_null_revenue_user_ids = df[df['ad_revenue'].isnull()].user_id.values\n",
    "\n",
    "null_incl_rev_users_df = df[df['user_id'].isin(df_including_null_revenue_user_ids)].groupby('user_id')[['ad_revenue']].sum().reset_index().sort_values('ad_revenue', ascending=False)\n",
    "null_incl_rev_users_df"
   ]
  },
  {
   "cell_type": "code",
   "execution_count": 12,
   "metadata": {},
   "outputs": [
    {
     "data": {
      "text/plain": [
       "platform\n",
       "android    150766\n",
       "ios         13413\n",
       "Name: platform, dtype: int64"
      ]
     },
     "execution_count": 12,
     "metadata": {},
     "output_type": "execute_result"
    }
   ],
   "source": [
    "all_null_ads_revenue_user_ids = null_incl_rev_users_df[null_incl_rev_users_df['ad_revenue'] == 0].reset_index().user_id.values\n",
    "\n",
    "#Users we never gain money from country and platform based review:\n",
    "no_money_gain_df_by_platform = df[df['user_id'].isin(all_null_ads_revenue_user_ids)].groupby('platform')['platform'].count()\n",
    "no_money_gain_df_by_platform"
   ]
  },
  {
   "cell_type": "code",
   "execution_count": 13,
   "metadata": {},
   "outputs": [
    {
     "data": {
      "text/plain": [
       "country\n",
       "us    37227\n",
       "tr    23252\n",
       "ir    17026\n",
       "gb    13346\n",
       "de    10729\n",
       "      ...  \n",
       "mc        2\n",
       "dj        2\n",
       "yt        1\n",
       "fm        1\n",
       "nc        1\n",
       "Name: count, Length: 151, dtype: int64"
      ]
     },
     "execution_count": 13,
     "metadata": {},
     "output_type": "execute_result"
    }
   ],
   "source": [
    "no_money_gain_df_by_country = df[df['user_id'].isin(all_null_ads_revenue_user_ids)]['country'].value_counts()\n",
    "no_money_gain_df_by_country"
   ]
  },
  {
   "cell_type": "markdown",
   "metadata": {},
   "source": [
    "Although the majority of ad revenue is driven by Turkish users, the largest group of users that generate no ad revenue comes from the US. \n",
    "\n",
    "This discrepancy indicates a potential monetization gap, suggesting either behavioral differences or inefficiencies in ad delivery for this market. \n",
    "\n",
    "A targeted investigation into ad viewability and user journey in the US segment is recommended."
   ]
  },
  {
   "cell_type": "code",
   "execution_count": 14,
   "metadata": {},
   "outputs": [
    {
     "data": {
      "text/plain": [
       "<Axes: >"
      ]
     },
     "execution_count": 14,
     "metadata": {},
     "output_type": "execute_result"
    },
    {
     "data": {
      "image/png": "[encoded data removed]",
      "text/plain": [
       "<Figure size 640x480 with 1 Axes>"
      ]
     },
     "metadata": {},
     "output_type": "display_data"
    }
   ],
   "source": [
    "df['ad_revenue'].hist(bins=100)"
   ]
  },
  {
   "cell_type": "markdown",
   "metadata": {},
   "source": [
    "Right-skewed data is observed, meaning that most values are close to zero, with a few extreme outliers on the higher end."
   ]
  },
  {
   "cell_type": "markdown",
   "metadata": {},
   "source": [
    "# Customer Segmentation"
   ]
  },
  {
   "cell_type": "code",
   "execution_count": 8,
   "metadata": {},
   "outputs": [
    {
     "data": {
      "text/html": [
       "<div>\n",
       "<style scoped>\n",
       "    .dataframe tbody tr th:only-of-type {\n",
       "        vertical-align: middle;\n",
       "    }\n",
       "\n",
       "    .dataframe tbody tr th {\n",
       "        vertical-align: top;\n",
       "    }\n",
       "\n",
       "    .dataframe thead th {\n",
       "        text-align: right;\n",
       "    }\n",
       "</style>\n",
       "<table border=\"1\" class=\"dataframe\">\n",
       "  <thead>\n",
       "    <tr style=\"text-align: right;\">\n",
       "      <th></th>\n",
       "      <th>user_id</th>\n",
       "      <th>rev_d0</th>\n",
       "      <th>rev_d3</th>\n",
       "      <th>rev_d7</th>\n",
       "      <th>rev_d7_log</th>\n",
       "      <th>birch_cluster</th>\n",
       "    </tr>\n",
       "  </thead>\n",
       "  <tbody>\n",
       "    <tr>\n",
       "      <th>0</th>\n",
       "      <td>5820934861762761160</td>\n",
       "      <td>0.0</td>\n",
       "      <td>0.737323</td>\n",
       "      <td>0.737323</td>\n",
       "      <td>-0.304728</td>\n",
       "      <td>3</td>\n",
       "    </tr>\n",
       "    <tr>\n",
       "      <th>1</th>\n",
       "      <td>2505569074672817941</td>\n",
       "      <td>0.0</td>\n",
       "      <td>0.000000</td>\n",
       "      <td>0.000000</td>\n",
       "      <td>-13.815511</td>\n",
       "      <td>0</td>\n",
       "    </tr>\n",
       "    <tr>\n",
       "      <th>2</th>\n",
       "      <td>-2986919920102759774</td>\n",
       "      <td>0.0</td>\n",
       "      <td>0.024206</td>\n",
       "      <td>0.024206</td>\n",
       "      <td>-3.721114</td>\n",
       "      <td>1</td>\n",
       "    </tr>\n",
       "    <tr>\n",
       "      <th>3</th>\n",
       "      <td>8252864593252586328</td>\n",
       "      <td>0.0</td>\n",
       "      <td>1.749061</td>\n",
       "      <td>2.512805</td>\n",
       "      <td>0.921400</td>\n",
       "      <td>2</td>\n",
       "    </tr>\n",
       "    <tr>\n",
       "      <th>4</th>\n",
       "      <td>3298063069325728389</td>\n",
       "      <td>0.0</td>\n",
       "      <td>0.220178</td>\n",
       "      <td>0.415320</td>\n",
       "      <td>-0.878704</td>\n",
       "      <td>3</td>\n",
       "    </tr>\n",
       "  </tbody>\n",
       "</table>\n",
       "</div>"
      ],
      "text/plain": [
       "                user_id  rev_d0    rev_d3    rev_d7  rev_d7_log  birch_cluster\n",
       "0   5820934861762761160     0.0  0.737323  0.737323   -0.304728              3\n",
       "1   2505569074672817941     0.0  0.000000  0.000000  -13.815511              0\n",
       "2  -2986919920102759774     0.0  0.024206  0.024206   -3.721114              1\n",
       "3   8252864593252586328     0.0  1.749061  2.512805    0.921400              2\n",
       "4   3298063069325728389     0.0  0.220178  0.415320   -0.878704              3"
      ]
     },
     "execution_count": 8,
     "metadata": {},
     "output_type": "execute_result"
    }
   ],
   "source": [
    "epsilon = 1e-6\n",
    "user_revenue['rev_d7_log'] = np.log(user_revenue['rev_d7'] + epsilon)\n",
    "birch = Birch(n_clusters=4)\n",
    "user_revenue['birch_cluster'] = birch.fit_predict(user_revenue[['rev_d7_log']])\n",
    "user_revenue.head()"
   ]
  },
  {
   "cell_type": "code",
   "execution_count": 9,
   "metadata": {},
   "outputs": [
    {
     "data": {
      "text/html": [
       "<div>\n",
       "<style scoped>\n",
       "    .dataframe tbody tr th:only-of-type {\n",
       "        vertical-align: middle;\n",
       "    }\n",
       "\n",
       "    .dataframe tbody tr th {\n",
       "        vertical-align: top;\n",
       "    }\n",
       "\n",
       "    .dataframe thead th {\n",
       "        text-align: right;\n",
       "    }\n",
       "</style>\n",
       "<table border=\"1\" class=\"dataframe\">\n",
       "  <thead>\n",
       "    <tr style=\"text-align: right;\">\n",
       "      <th></th>\n",
       "      <th>count</th>\n",
       "      <th>mean</th>\n",
       "      <th>median</th>\n",
       "      <th>min</th>\n",
       "      <th>max</th>\n",
       "    </tr>\n",
       "    <tr>\n",
       "      <th>birch_cluster</th>\n",
       "      <th></th>\n",
       "      <th></th>\n",
       "      <th></th>\n",
       "      <th></th>\n",
       "      <th></th>\n",
       "    </tr>\n",
       "  </thead>\n",
       "  <tbody>\n",
       "    <tr>\n",
       "      <th>0</th>\n",
       "      <td>80715</td>\n",
       "      <td>9.725167e-07</td>\n",
       "      <td>0.000000</td>\n",
       "      <td>0.000000</td>\n",
       "      <td>0.000318</td>\n",
       "    </tr>\n",
       "    <tr>\n",
       "      <th>1</th>\n",
       "      <td>22048</td>\n",
       "      <td>1.357920e-02</td>\n",
       "      <td>0.012991</td>\n",
       "      <td>0.000319</td>\n",
       "      <td>0.029521</td>\n",
       "    </tr>\n",
       "    <tr>\n",
       "      <th>3</th>\n",
       "      <td>65910</td>\n",
       "      <td>2.309322e-01</td>\n",
       "      <td>0.143445</td>\n",
       "      <td>0.029524</td>\n",
       "      <td>0.944515</td>\n",
       "    </tr>\n",
       "    <tr>\n",
       "      <th>2</th>\n",
       "      <td>7954</td>\n",
       "      <td>2.109535e+00</td>\n",
       "      <td>1.461690</td>\n",
       "      <td>0.944658</td>\n",
       "      <td>109.539118</td>\n",
       "    </tr>\n",
       "  </tbody>\n",
       "</table>\n",
       "</div>"
      ],
      "text/plain": [
       "               count          mean    median       min         max\n",
       "birch_cluster                                                     \n",
       "0              80715  9.725167e-07  0.000000  0.000000    0.000318\n",
       "1              22048  1.357920e-02  0.012991  0.000319    0.029521\n",
       "3              65910  2.309322e-01  0.143445  0.029524    0.944515\n",
       "2               7954  2.109535e+00  1.461690  0.944658  109.539118"
      ]
     },
     "execution_count": 9,
     "metadata": {},
     "output_type": "execute_result"
    }
   ],
   "source": [
    "user_revenue.groupby('birch_cluster')['rev_d7'].agg(['count', 'mean', 'median', 'min', 'max']).sort_values('min')"
   ]
  },
  {
   "cell_type": "code",
   "execution_count": 20,
   "metadata": {},
   "outputs": [
    {
     "data": {
      "text/html": [
       "<div>\n",
       "<style scoped>\n",
       "    .dataframe tbody tr th:only-of-type {\n",
       "        vertical-align: middle;\n",
       "    }\n",
       "\n",
       "    .dataframe tbody tr th {\n",
       "        vertical-align: top;\n",
       "    }\n",
       "\n",
       "    .dataframe thead th {\n",
       "        text-align: right;\n",
       "    }\n",
       "</style>\n",
       "<table border=\"1\" class=\"dataframe\">\n",
       "  <thead>\n",
       "    <tr style=\"text-align: right;\">\n",
       "      <th></th>\n",
       "      <th>user_id</th>\n",
       "      <th>rev_d0</th>\n",
       "      <th>rev_d3</th>\n",
       "      <th>rev_d7</th>\n",
       "      <th>rev_d7_log</th>\n",
       "      <th>birch_cluster</th>\n",
       "      <th>birch_cluster_label</th>\n",
       "    </tr>\n",
       "  </thead>\n",
       "  <tbody>\n",
       "    <tr>\n",
       "      <th>0</th>\n",
       "      <td>5820934861762761160</td>\n",
       "      <td>0.0</td>\n",
       "      <td>0.737323</td>\n",
       "      <td>0.737323</td>\n",
       "      <td>-0.304728</td>\n",
       "      <td>3</td>\n",
       "      <td>Medium Revenue</td>\n",
       "    </tr>\n",
       "    <tr>\n",
       "      <th>1</th>\n",
       "      <td>2505569074672817941</td>\n",
       "      <td>0.0</td>\n",
       "      <td>0.000000</td>\n",
       "      <td>0.000000</td>\n",
       "      <td>-13.815511</td>\n",
       "      <td>0</td>\n",
       "      <td>No or Very Low Revenue</td>\n",
       "    </tr>\n",
       "    <tr>\n",
       "      <th>2</th>\n",
       "      <td>-2986919920102759774</td>\n",
       "      <td>0.0</td>\n",
       "      <td>0.024206</td>\n",
       "      <td>0.024206</td>\n",
       "      <td>-3.721114</td>\n",
       "      <td>1</td>\n",
       "      <td>Low Revenue</td>\n",
       "    </tr>\n",
       "    <tr>\n",
       "      <th>3</th>\n",
       "      <td>8252864593252586328</td>\n",
       "      <td>0.0</td>\n",
       "      <td>1.749061</td>\n",
       "      <td>2.512805</td>\n",
       "      <td>0.921400</td>\n",
       "      <td>2</td>\n",
       "      <td>High Revenue</td>\n",
       "    </tr>\n",
       "    <tr>\n",
       "      <th>4</th>\n",
       "      <td>3298063069325728389</td>\n",
       "      <td>0.0</td>\n",
       "      <td>0.220178</td>\n",
       "      <td>0.415320</td>\n",
       "      <td>-0.878704</td>\n",
       "      <td>3</td>\n",
       "      <td>Medium Revenue</td>\n",
       "    </tr>\n",
       "  </tbody>\n",
       "</table>\n",
       "</div>"
      ],
      "text/plain": [
       "                user_id  rev_d0    rev_d3    rev_d7  rev_d7_log  \\\n",
       "0   5820934861762761160     0.0  0.737323  0.737323   -0.304728   \n",
       "1   2505569074672817941     0.0  0.000000  0.000000  -13.815511   \n",
       "2  -2986919920102759774     0.0  0.024206  0.024206   -3.721114   \n",
       "3   8252864593252586328     0.0  1.749061  2.512805    0.921400   \n",
       "4   3298063069325728389     0.0  0.220178  0.415320   -0.878704   \n",
       "\n",
       "   birch_cluster     birch_cluster_label  \n",
       "0              3          Medium Revenue  \n",
       "1              0  No or Very Low Revenue  \n",
       "2              1             Low Revenue  \n",
       "3              2            High Revenue  \n",
       "4              3          Medium Revenue  "
      ]
     },
     "execution_count": 20,
     "metadata": {},
     "output_type": "execute_result"
    }
   ],
   "source": [
    "user_revenue['birch_cluster_label'] = user_revenue.apply(label_cluster, axis=1)\n",
    "user_revenue.head()"
   ]
  },
  {
   "cell_type": "code",
   "execution_count": null,
   "metadata": {},
   "outputs": [],
   "source": [
    "user_revenue.to_csv('outputs/looker_studio_data/user_revenue_birch_segmented.csv', index=False)"
   ]
  },
  {
   "cell_type": "code",
   "execution_count": null,
   "metadata": {},
   "outputs": [],
   "source": []
  }
 ],
 "metadata": {
  "kernelspec": {
   "display_name": "Python 3",
   "language": "python",
   "name": "python3"
  },
  "language_info": {
   "codemirror_mode": {
    "name": "ipython",
    "version": 3
   },
   "file_extension": ".py",
   "mimetype": "text/x-python",
   "name": "python",
   "nbconvert_exporter": "python",
   "pygments_lexer": "ipython3",
   "version": "3.9.6"
  }
 },
 "nbformat": 4,
 "nbformat_minor": 2
}
