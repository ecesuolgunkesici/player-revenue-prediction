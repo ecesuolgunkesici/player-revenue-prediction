{
 "cells": [
  {
   "cell_type": "code",
   "execution_count": 1,
   "metadata": {},
   "outputs": [
    {
     "name": "stderr",
     "output_type": "stream",
     "text": [
      "/Users/ecesuolgun/Library/Python/3.9/lib/python/site-packages/urllib3/__init__.py:35: NotOpenSSLWarning: urllib3 v2 only supports OpenSSL 1.1.1+, currently the 'ssl' module is compiled with 'LibreSSL 2.8.3'. See: https://github.com/urllib3/urllib3/issues/3020\n",
      "  warnings.warn(\n"
     ]
    }
   ],
   "source": [
    "from google.cloud import bigquery\n",
    "import os\n",
    "from dotenv import load_dotenv\n",
    "import pandas as pd\n",
    "import logging\n",
    "import numpy as np\n",
    "from sklearn.cluster import MiniBatchKMeans\n",
    "from sklearn.metrics import silhouette_score, calinski_harabasz_score, davies_bouldin_score\n",
    "import matplotlib.pyplot as plt\n"
   ]
  },
  {
   "cell_type": "code",
   "execution_count": 2,
   "metadata": {},
   "outputs": [],
   "source": [
    "#Logging configuration\n",
    "logging.basicConfig(\n",
    "    level=logging.INFO, \n",
    "    format=\"%(asctime)s - %(levelname)s - %(message)s\", \n",
    ")"
   ]
  },
  {
   "cell_type": "code",
   "execution_count": 3,
   "metadata": {},
   "outputs": [
    {
     "name": "stderr",
     "output_type": "stream",
     "text": [
      "2025-04-30 20:32:34,506 - INFO - Local file found, loading...\n"
     ]
    }
   ],
   "source": [
    "load_dotenv()\n",
    "CREDENTIALS_PATH = os.getenv('GOOGLE_APPLICATION_CREDENTIALS')\n",
    "if os.path.exists('clustered_events.feather'):\n",
    "    logging.info(\"Local file found, loading...\")\n",
    "    df = pd.read_feather('clustered_events.feather')\n",
    "else:\n",
    "    logging.info(\"Local file not found, fetching from BigQuery...\")\n",
    "    query = \"\"\"\n",
    "    SELECT *\n",
    "    FROM `apps-interview-project.analytics_v2.clustered_events`\n",
    "    \"\"\"\n",
    "    client = bigquery.Client.from_service_account_json(CREDENTIALS_PATH)\n",
    "    df = client.query(query).to_dataframe()\n",
    "    df.to_feather('clustered_events.feather')"
   ]
  },
  {
   "cell_type": "code",
   "execution_count": 4,
   "metadata": {},
   "outputs": [
    {
     "name": "stdout",
     "output_type": "stream",
     "text": [
      "<class 'pandas.core.frame.DataFrame'>\n",
      "RangeIndex: 13497147 entries, 0 to 13497146\n",
      "Data columns (total 12 columns):\n",
      " #   Column              Dtype              \n",
      "---  ------              -----              \n",
      " 0   event_date          dbdate             \n",
      " 1   event_timestamp     Int64              \n",
      " 2   installed_datetime  datetime64[us, UTC]\n",
      " 3   platform            object             \n",
      " 4   country             object             \n",
      " 5   user_id             Int64              \n",
      " 6   event_name          object             \n",
      " 7   exp_group           Int64              \n",
      " 8   is_online           Int64              \n",
      " 9   ad_revenue          float64            \n",
      " 10  ad_type             object             \n",
      " 11  level_name          Int64              \n",
      "dtypes: Int64(5), datetime64[us, UTC](1), dbdate(1), float64(1), object(4)\n",
      "memory usage: 1.3+ GB\n"
     ]
    }
   ],
   "source": [
    "df.info()"
   ]
  },
  {
   "cell_type": "code",
   "execution_count": 5,
   "metadata": {},
   "outputs": [
    {
     "data": {
      "text/plain": [
       "count    1.100898e+07\n",
       "mean     4.398796e-03\n",
       "std      2.231524e-02\n",
       "min      2.000000e-08\n",
       "25%      1.501600e-04\n",
       "50%      3.903743e-04\n",
       "75%      1.439574e-03\n",
       "max      5.086236e+00\n",
       "Name: ad_revenue, dtype: float64"
      ]
     },
     "execution_count": 5,
     "metadata": {},
     "output_type": "execute_result"
    }
   ],
   "source": [
    "df['ad_revenue'].describe()"
   ]
  },
  {
   "cell_type": "code",
   "execution_count": 6,
   "metadata": {},
   "outputs": [
    {
     "data": {
      "text/html": [
       "<div>\n",
       "<style scoped>\n",
       "    .dataframe tbody tr th:only-of-type {\n",
       "        vertical-align: middle;\n",
       "    }\n",
       "\n",
       "    .dataframe tbody tr th {\n",
       "        vertical-align: top;\n",
       "    }\n",
       "\n",
       "    .dataframe thead th {\n",
       "        text-align: right;\n",
       "    }\n",
       "</style>\n",
       "<table border=\"1\" class=\"dataframe\">\n",
       "  <thead>\n",
       "    <tr style=\"text-align: right;\">\n",
       "      <th></th>\n",
       "      <th>event_date</th>\n",
       "      <th>event_timestamp</th>\n",
       "      <th>installed_datetime</th>\n",
       "      <th>platform</th>\n",
       "      <th>country</th>\n",
       "      <th>user_id</th>\n",
       "      <th>event_name</th>\n",
       "      <th>exp_group</th>\n",
       "      <th>is_online</th>\n",
       "      <th>ad_revenue</th>\n",
       "      <th>ad_type</th>\n",
       "      <th>level_name</th>\n",
       "    </tr>\n",
       "  </thead>\n",
       "  <tbody>\n",
       "    <tr>\n",
       "      <th>0</th>\n",
       "      <td>2024-07-11</td>\n",
       "      <td>1720690917684018</td>\n",
       "      <td>2024-07-11 09:28:05.413000+00:00</td>\n",
       "      <td>android</td>\n",
       "      <td>tr</td>\n",
       "      <td>-2664840524922734347</td>\n",
       "      <td>AdImpressionRevenue</td>\n",
       "      <td>-8619511817166493278</td>\n",
       "      <td>&lt;NA&gt;</td>\n",
       "      <td>0.000158</td>\n",
       "      <td>banner</td>\n",
       "      <td>&lt;NA&gt;</td>\n",
       "    </tr>\n",
       "    <tr>\n",
       "      <th>1</th>\n",
       "      <td>2024-07-11</td>\n",
       "      <td>1720680837216009</td>\n",
       "      <td>2024-05-16 13:17:21.290000+00:00</td>\n",
       "      <td>ios</td>\n",
       "      <td>gb</td>\n",
       "      <td>5139130612280951285</td>\n",
       "      <td>AdImpressionRevenue</td>\n",
       "      <td>&lt;NA&gt;</td>\n",
       "      <td>&lt;NA&gt;</td>\n",
       "      <td>0.000065</td>\n",
       "      <td>banner</td>\n",
       "      <td>&lt;NA&gt;</td>\n",
       "    </tr>\n",
       "    <tr>\n",
       "      <th>2</th>\n",
       "      <td>2024-07-11</td>\n",
       "      <td>1720737075021002</td>\n",
       "      <td>2024-01-28 02:53:03.901000+00:00</td>\n",
       "      <td>android</td>\n",
       "      <td>us</td>\n",
       "      <td>4131906675711972341</td>\n",
       "      <td>AdImpressionRevenue</td>\n",
       "      <td>&lt;NA&gt;</td>\n",
       "      <td>&lt;NA&gt;</td>\n",
       "      <td>0.005400</td>\n",
       "      <td>banner</td>\n",
       "      <td>&lt;NA&gt;</td>\n",
       "    </tr>\n",
       "    <tr>\n",
       "      <th>3</th>\n",
       "      <td>2024-07-11</td>\n",
       "      <td>1720660341439008</td>\n",
       "      <td>2024-06-24 15:36:56.422000+00:00</td>\n",
       "      <td>android</td>\n",
       "      <td>us</td>\n",
       "      <td>7861136691032275445</td>\n",
       "      <td>AdImpressionRevenue</td>\n",
       "      <td>-8619511817166493278</td>\n",
       "      <td>&lt;NA&gt;</td>\n",
       "      <td>0.034931</td>\n",
       "      <td>interstitial</td>\n",
       "      <td>&lt;NA&gt;</td>\n",
       "    </tr>\n",
       "    <tr>\n",
       "      <th>4</th>\n",
       "      <td>2024-07-11</td>\n",
       "      <td>1720713454918000</td>\n",
       "      <td>2024-07-11 12:45:51.602000+00:00</td>\n",
       "      <td>android</td>\n",
       "      <td>tr</td>\n",
       "      <td>5310866246176149238</td>\n",
       "      <td>AdImpressionRevenue</td>\n",
       "      <td>1046097541929355958</td>\n",
       "      <td>&lt;NA&gt;</td>\n",
       "      <td>0.000648</td>\n",
       "      <td>banner</td>\n",
       "      <td>&lt;NA&gt;</td>\n",
       "    </tr>\n",
       "  </tbody>\n",
       "</table>\n",
       "</div>"
      ],
      "text/plain": [
       "   event_date   event_timestamp               installed_datetime platform  \\\n",
       "0  2024-07-11  1720690917684018 2024-07-11 09:28:05.413000+00:00  android   \n",
       "1  2024-07-11  1720680837216009 2024-05-16 13:17:21.290000+00:00      ios   \n",
       "2  2024-07-11  1720737075021002 2024-01-28 02:53:03.901000+00:00  android   \n",
       "3  2024-07-11  1720660341439008 2024-06-24 15:36:56.422000+00:00  android   \n",
       "4  2024-07-11  1720713454918000 2024-07-11 12:45:51.602000+00:00  android   \n",
       "\n",
       "  country               user_id           event_name             exp_group  \\\n",
       "0      tr  -2664840524922734347  AdImpressionRevenue  -8619511817166493278   \n",
       "1      gb   5139130612280951285  AdImpressionRevenue                  <NA>   \n",
       "2      us   4131906675711972341  AdImpressionRevenue                  <NA>   \n",
       "3      us   7861136691032275445  AdImpressionRevenue  -8619511817166493278   \n",
       "4      tr   5310866246176149238  AdImpressionRevenue   1046097541929355958   \n",
       "\n",
       "   is_online  ad_revenue       ad_type  level_name  \n",
       "0       <NA>    0.000158        banner        <NA>  \n",
       "1       <NA>    0.000065        banner        <NA>  \n",
       "2       <NA>    0.005400        banner        <NA>  \n",
       "3       <NA>    0.034931  interstitial        <NA>  \n",
       "4       <NA>    0.000648        banner        <NA>  "
      ]
     },
     "execution_count": 6,
     "metadata": {},
     "output_type": "execute_result"
    }
   ],
   "source": [
    "df.head()"
   ]
  },
  {
   "cell_type": "code",
   "execution_count": null,
   "metadata": {},
   "outputs": [],
   "source": []
  }
 ],
 "metadata": {
  "kernelspec": {
   "display_name": "Python 3",
   "language": "python",
   "name": "python3"
  },
  "language_info": {
   "codemirror_mode": {
    "name": "ipython",
    "version": 3
   },
   "file_extension": ".py",
   "mimetype": "text/x-python",
   "name": "python",
   "nbconvert_exporter": "python",
   "pygments_lexer": "ipython3",
   "version": "3.9.6"
  }
 },
 "nbformat": 4,
 "nbformat_minor": 2
}
